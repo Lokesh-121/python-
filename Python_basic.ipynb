{
  "nbformat": 4,
  "nbformat_minor": 0,
  "metadata": {
    "colab": {
      "provenance": [],
      "authorship_tag": "ABX9TyNx0G6DvtHsvjxxFpwzyDpY",
      "include_colab_link": true
    },
    "kernelspec": {
      "name": "python3",
      "display_name": "Python 3"
    },
    "language_info": {
      "name": "python"
    }
  },
  "cells": [
    {
      "cell_type": "markdown",
      "metadata": {
        "id": "view-in-github",
        "colab_type": "text"
      },
      "source": [
        "<a href=\"https://colab.research.google.com/github/Lokesh-121/python-/blob/main/Python_basic.ipynb\" target=\"_parent\"><img src=\"https://colab.research.google.com/assets/colab-badge.svg\" alt=\"Open In Colab\"/></a>"
      ]
    },
    {
      "cell_type": "markdown",
      "source": [
        "PYTHON - BASIC FOR AI"
      ],
      "metadata": {
        "id": "noELNS-6Esi7"
      }
    },
    {
      "cell_type": "markdown",
      "source": [
        ">> print"
      ],
      "metadata": {
        "id": "-sQScc8SEzHp"
      }
    },
    {
      "cell_type": "code",
      "execution_count": null,
      "metadata": {
        "colab": {
          "base_uri": "https://localhost:8080/"
        },
        "id": "GprXmxNvEkBy",
        "outputId": "8fe19e3b-6eb9-4d3f-8eba-3e173aa0d3f3"
      },
      "outputs": [
        {
          "output_type": "stream",
          "name": "stdout",
          "text": [
            "Hello world!\n",
            "Hello world!\n"
          ]
        }
      ],
      "source": [
        "print (\"Hello world!\") #print case sensitive\n",
        "print ('Hello world!') #things within '' and \"\" will be considered as str"
      ]
    },
    {
      "cell_type": "markdown",
      "source": [
        "print simple message"
      ],
      "metadata": {
        "id": "YopTEO9HFUwD"
      }
    },
    {
      "cell_type": "code",
      "source": [
        "print ('Here we will cover some basic of python for AI!')"
      ],
      "metadata": {
        "colab": {
          "base_uri": "https://localhost:8080/"
        },
        "id": "zhoAWht_E1xw",
        "outputId": "b7c8697f-fa4a-43c3-ed1a-09b3ab3a7c97"
      },
      "execution_count": null,
      "outputs": [
        {
          "output_type": "stream",
          "name": "stdout",
          "text": [
            "Here we will cover some basic of python for AI!\n"
          ]
        }
      ]
    },
    {
      "cell_type": "markdown",
      "source": [
        "print multiple lines of messsage"
      ],
      "metadata": {
        "id": "dxtBtvt4FrYv"
      }
    },
    {
      "cell_type": "code",
      "source": [
        "print ('Welcome you all\\nhope you will get\\nsome knowledge here!') #\\n cut down lines"
      ],
      "metadata": {
        "colab": {
          "base_uri": "https://localhost:8080/"
        },
        "id": "CPzntiDqFqT4",
        "outputId": "74515135-2646-4c46-8b89-09490d85fa40"
      },
      "execution_count": null,
      "outputs": [
        {
          "output_type": "stream",
          "name": "stdout",
          "text": [
            "Welcome you all\n",
            "hope you will get\n",
            "some knowledge here!\n"
          ]
        }
      ]
    },
    {
      "cell_type": "markdown",
      "source": [
        "get input from the user and print it"
      ],
      "metadata": {
        "id": "E7NiqVHOJeqP"
      }
    },
    {
      "cell_type": "code",
      "source": [
        "a = int(input(\"Enter your int data:\")) #int() converts the string input to an integer, and the result is assigned to the variable\n",
        "b = input('Enter your str data:') #get input as str\n",
        "print (a)\n",
        "print (b)"
      ],
      "metadata": {
        "colab": {
          "base_uri": "https://localhost:8080/"
        },
        "id": "szA_1ptNJoNq",
        "outputId": "e085a68b-3616-41e2-9047-5a83092efdf3"
      },
      "execution_count": null,
      "outputs": [
        {
          "output_type": "stream",
          "name": "stdout",
          "text": [
            "Enter your int data:1\n",
            "Enter your str data:hi\n",
            "1\n",
            "hi\n"
          ]
        }
      ]
    },
    {
      "cell_type": "markdown",
      "source": [
        ">> Data Types"
      ],
      "metadata": {
        "id": "CXXbrlinGXIt"
      }
    },
    {
      "cell_type": "code",
      "source": [
        "a = 0 #assigns the value 0 to a variable called \"a\"\n",
        "print (a)\n",
        "print (type(a)) #the type() function is used to determine the data type of a variable"
      ],
      "metadata": {
        "colab": {
          "base_uri": "https://localhost:8080/"
        },
        "id": "Drvs8fcYGmNE",
        "outputId": "4705d2bc-e3fa-440c-dadb-047912bb18a2"
      },
      "execution_count": null,
      "outputs": [
        {
          "output_type": "stream",
          "name": "stdout",
          "text": [
            "0\n",
            "<class 'int'>\n"
          ]
        }
      ]
    },
    {
      "cell_type": "code",
      "source": [
        "a = 1.0\n",
        "print(a)\n",
        "print(type(a))"
      ],
      "metadata": {
        "colab": {
          "base_uri": "https://localhost:8080/"
        },
        "id": "DeT3osGvGrJD",
        "outputId": "7a142486-155d-486c-aa2f-210dc77326be"
      },
      "execution_count": null,
      "outputs": [
        {
          "output_type": "stream",
          "name": "stdout",
          "text": [
            "1.0\n",
            "<class 'float'>\n"
          ]
        }
      ]
    },
    {
      "cell_type": "code",
      "source": [
        "a = 'hii dude'\n",
        "print(a)\n",
        "print(type(a))"
      ],
      "metadata": {
        "colab": {
          "base_uri": "https://localhost:8080/"
        },
        "id": "zoSd8JQrIvXm",
        "outputId": "1f6dbc8c-2f21-4490-e33c-5b02f00a832c"
      },
      "execution_count": null,
      "outputs": [
        {
          "output_type": "stream",
          "name": "stdout",
          "text": [
            "hii dude\n",
            "<class 'str'>\n"
          ]
        }
      ]
    },
    {
      "cell_type": "code",
      "source": [
        "a = True\n",
        "print(a)\n",
        "print(type(a))"
      ],
      "metadata": {
        "colab": {
          "base_uri": "https://localhost:8080/"
        },
        "id": "EirECnEcJFo0",
        "outputId": "4162867d-539e-4918-9ab1-e675dd1147e7"
      },
      "execution_count": null,
      "outputs": [
        {
          "output_type": "stream",
          "name": "stdout",
          "text": [
            "True\n",
            "<class 'bool'>\n"
          ]
        }
      ]
    },
    {
      "cell_type": "markdown",
      "source": [
        "get input from the your and check the data type"
      ],
      "metadata": {
        "id": "rqTChZDyLoCG"
      }
    },
    {
      "cell_type": "code",
      "source": [
        "a = int(input(\"Enter your data:\"))\n",
        "print(type(a))"
      ],
      "metadata": {
        "colab": {
          "base_uri": "https://localhost:8080/"
        },
        "id": "91UuYbtLJJug",
        "outputId": "d94b2cfe-35ea-4b51-9eea-f79d8cef739c"
      },
      "execution_count": null,
      "outputs": [
        {
          "output_type": "stream",
          "name": "stdout",
          "text": [
            "Enter your data:1\n",
            "<class 'int'>\n"
          ]
        }
      ]
    },
    {
      "cell_type": "markdown",
      "source": [
        "convert one form od data to other form"
      ],
      "metadata": {
        "id": "JwmHq_m0MVly"
      }
    },
    {
      "cell_type": "code",
      "source": [
        "a = int(input(\"Enter your data:\"))\n",
        "print(float(a))\n"
      ],
      "metadata": {
        "colab": {
          "base_uri": "https://localhost:8080/"
        },
        "id": "zi7I8KFwL60g",
        "outputId": "5ebe77b7-2a0b-4ba7-e43f-5757096b16c3"
      },
      "execution_count": null,
      "outputs": [
        {
          "output_type": "stream",
          "name": "stdout",
          "text": [
            "Enter your data:1\n",
            "1.0\n"
          ]
        }
      ]
    },
    {
      "cell_type": "code",
      "source": [
        "a = int(input(\"Enter your data:\"))\n",
        "b = input(\"Enter your data:\")\n",
        "c = input(\"Enter your data:\")\n",
        "print(a,b,c)"
      ],
      "metadata": {
        "colab": {
          "base_uri": "https://localhost:8080/"
        },
        "id": "qtrCs9kiMo5F",
        "outputId": "efed6c1b-de39-4be5-ba06-b59f6b606d19"
      },
      "execution_count": null,
      "outputs": [
        {
          "output_type": "stream",
          "name": "stdout",
          "text": [
            "Enter your data:1\n",
            "Enter your data:1.0\n",
            "Enter your data:hii\n",
            "1 1.0 hii\n"
          ]
        }
      ]
    },
    {
      "cell_type": "markdown",
      "source": [
        ">> Math operators"
      ],
      "metadata": {
        "id": "3B6wnYKEkWJ0"
      }
    },
    {
      "cell_type": "code",
      "source": [
        "a=1\n",
        "b=2\n",
        "print(a+b)\n",
        "print(a-b)\n",
        "print(a*b)\n",
        "print(a/b)\n",
        "print(a//b)\n",
        "print(a%b)\n",
        "print(a**b)"
      ],
      "metadata": {
        "colab": {
          "base_uri": "https://localhost:8080/"
        },
        "id": "nEXbd1I9kVwm",
        "outputId": "f8a81bb6-20de-4b28-84b2-c7103c2a7480"
      },
      "execution_count": null,
      "outputs": [
        {
          "output_type": "stream",
          "name": "stdout",
          "text": [
            "3\n",
            "-1\n",
            "2\n",
            "0.5\n",
            "0\n",
            "1\n",
            "1\n"
          ]
        }
      ]
    },
    {
      "cell_type": "markdown",
      "source": [
        ">>Condition"
      ],
      "metadata": {
        "id": "H3-e9VtmkNaN"
      }
    },
    {
      "cell_type": "code",
      "source": [
        "a = int(input(\"Enter your data:\"))\n",
        "\n",
        "if(a>0):\n",
        "  print(a, 'is greater than zero')\n",
        "elif(a==0):\n",
        "  print(a, 'is equal to zero')\n",
        "else:\n",
        "  print(a,'is less than zero')\n"
      ],
      "metadata": {
        "colab": {
          "base_uri": "https://localhost:8080/"
        },
        "id": "JzoSEjMjgfVb",
        "outputId": "ec88632d-3908-490b-9b1e-10a8b56bbabc"
      },
      "execution_count": null,
      "outputs": [
        {
          "output_type": "stream",
          "name": "stdout",
          "text": [
            "Enter your data:1\n",
            "1 is greater than zero\n"
          ]
        }
      ]
    },
    {
      "cell_type": "markdown",
      "source": [
        "even or odd"
      ],
      "metadata": {
        "id": "6hQgCq5glB72"
      }
    },
    {
      "cell_type": "code",
      "source": [
        "a = int(input(\"Enter your data:\"))\n",
        "\n",
        "if(a%2==0):\n",
        "  print(a, 'is even')\n",
        "else:\n",
        "  print(a,'is odd')"
      ],
      "metadata": {
        "colab": {
          "base_uri": "https://localhost:8080/"
        },
        "id": "TjZYlgV8kI9j",
        "outputId": "804c83ce-a69f-4ac1-d0a6-ec2ba8bfbe4f"
      },
      "execution_count": null,
      "outputs": [
        {
          "output_type": "stream",
          "name": "stdout",
          "text": [
            "Enter your data:1\n",
            "1 is odd\n"
          ]
        }
      ]
    },
    {
      "cell_type": "markdown",
      "source": [
        "find out the greatest number"
      ],
      "metadata": {
        "id": "xhJ5Z2LRl6xN"
      }
    },
    {
      "cell_type": "code",
      "source": [
        "a = int(input(\"Enter your data:\"))\n",
        "b = int(input(\"Enter your data:\"))\n",
        "\n",
        "if(a>b):\n",
        "  print(a, 'is greater than', b)\n",
        "else:\n",
        "  print(b,'is greater than', a)"
      ],
      "metadata": {
        "colab": {
          "base_uri": "https://localhost:8080/"
        },
        "id": "SGaEEoYDlLnd",
        "outputId": "0f326b75-46ba-484e-f5bf-574fceae435c"
      },
      "execution_count": null,
      "outputs": [
        {
          "output_type": "stream",
          "name": "stdout",
          "text": [
            "Enter your data:1\n",
            "Enter your data:2\n",
            "2 is greater than 1\n"
          ]
        }
      ]
    },
    {
      "cell_type": "markdown",
      "source": [
        "grading system"
      ],
      "metadata": {
        "id": "zSI7-xKAmEKY"
      }
    },
    {
      "cell_type": "code",
      "source": [
        "a = int(input(\"Enter your data:\"))\n",
        "\n",
        "if(a>90):\n",
        "  print('Achieved A+')\n",
        "elif(a>75):\n",
        "  print('Achieved A')\n",
        "elif(a>50):\n",
        "  print('Achieved B+')\n",
        "elif(a>=35):\n",
        "  print('Achieved B')\n",
        "else:\n",
        "  print('Failed')"
      ],
      "metadata": {
        "colab": {
          "base_uri": "https://localhost:8080/"
        },
        "id": "x6NVu-mul2Lw",
        "outputId": "923d95ad-94ad-449a-c30c-9d6f460d347f"
      },
      "execution_count": null,
      "outputs": [
        {
          "output_type": "stream",
          "name": "stdout",
          "text": [
            "Enter your data:35\n",
            "Achieved B\n"
          ]
        }
      ]
    },
    {
      "cell_type": "markdown",
      "source": [
        "findout positive or negative number"
      ],
      "metadata": {
        "id": "Snbn--a8ndHQ"
      }
    },
    {
      "cell_type": "code",
      "source": [
        "a = int(input(\"Enter your data:\"))\n",
        "\n",
        "if(a%2==0):\n",
        "  print(a, 'Positive number')\n",
        "elif(a==0):\n",
        "  print(a,'=0')\n",
        "else:\n",
        "  print(a,'Negative number')"
      ],
      "metadata": {
        "colab": {
          "base_uri": "https://localhost:8080/"
        },
        "id": "dRm5bh8-mCHS",
        "outputId": "ae8fc4b1-b405-4f5b-c205-ae682612da57"
      },
      "execution_count": null,
      "outputs": [
        {
          "output_type": "stream",
          "name": "stdout",
          "text": [
            "Enter your data:-1\n",
            "-1 Negative number\n"
          ]
        }
      ]
    },
    {
      "cell_type": "markdown",
      "source": [
        "largest of 3 numbers"
      ],
      "metadata": {
        "id": "pn6bmrwUnjzm"
      }
    },
    {
      "cell_type": "code",
      "source": [
        "a = int(input(\"Enter your data:\"))\n",
        "b = int(input(\"Enter your data:\"))\n",
        "c = int(input(\"Enter your data:\"))\n",
        "\n",
        "if(a>b and a>c):\n",
        "  print(a, 'is the largest number')\n",
        "elif(b>a and b>c):\n",
        "  print(b,'is the largest number')\n",
        "else:\n",
        "  print(c,'is the largest number')"
      ],
      "metadata": {
        "colab": {
          "base_uri": "https://localhost:8080/"
        },
        "id": "LT8kDojNm7hT",
        "outputId": "3eaf8686-99d3-4964-83f6-d822223d1c2d"
      },
      "execution_count": null,
      "outputs": [
        {
          "output_type": "stream",
          "name": "stdout",
          "text": [
            "Enter your data:1\n",
            "Enter your data:2\n",
            "Enter your data:3\n",
            "3 is largest number\n"
          ]
        }
      ]
    },
    {
      "cell_type": "markdown",
      "source": [
        "Leap year"
      ],
      "metadata": {
        "id": "lOdDZgQsoHd-"
      }
    },
    {
      "cell_type": "code",
      "source": [
        "a = int(input(\"Enter your data:\"))\n",
        "\n",
        "if(a%4==0):\n",
        "  print(a, 'is Leap year')\n",
        "else:\n",
        "  print(a,'is non leap year')"
      ],
      "metadata": {
        "colab": {
          "base_uri": "https://localhost:8080/"
        },
        "id": "DIMIAThon9xK",
        "outputId": "c9f2be77-12b6-4efb-8f5d-e8c65e4cdd81"
      },
      "execution_count": null,
      "outputs": [
        {
          "output_type": "stream",
          "name": "stdout",
          "text": [
            "Enter your data:2016\n",
            "2016 is Leap year\n"
          ]
        }
      ]
    },
    {
      "cell_type": "markdown",
      "source": [
        "vowels or consonent"
      ],
      "metadata": {
        "id": "RNJ-pqI0objN"
      }
    },
    {
      "cell_type": "code",
      "source": [
        "a = input(\"Enter your data:\")\n",
        "vowels = 'aeiouAEIOU'\n",
        "\n",
        "if(a in vowels):\n",
        "  print(a, 'is vowel')\n",
        "else:\n",
        "  print(a,'is consonent')"
      ],
      "metadata": {
        "colab": {
          "base_uri": "https://localhost:8080/"
        },
        "id": "IHBDhk6goWUT",
        "outputId": "422ab300-d1d0-4232-b7af-35390d703ea8"
      },
      "execution_count": null,
      "outputs": [
        {
          "output_type": "stream",
          "name": "stdout",
          "text": [
            "Enter your data:A\n",
            "A is vowel\n"
          ]
        }
      ]
    },
    {
      "cell_type": "markdown",
      "source": [
        "Simple calsulator"
      ],
      "metadata": {
        "id": "ky0rx6m8o3f9"
      }
    },
    {
      "cell_type": "code",
      "source": [
        "a = int(input(\"Enter your data:\"))\n",
        "b = int(input(\"Enter your data:\"))\n",
        "c = int(input(\"Enter your operation 1.SUM 2.DIFF 3.MUL 4.DIV:\"))\n",
        "\n",
        "\n",
        "if(c==1):\n",
        "  print('sum is', a+b)\n",
        "elif(c==2):\n",
        "  print('Dif is', a-b)\n",
        "elif(c==3):\n",
        "  print('Mul is',a*b)\n",
        "elif(c==4):\n",
        "  print('Div is',a//b)\n",
        "else:\n",
        "  print('Invalid operation')\n"
      ],
      "metadata": {
        "colab": {
          "base_uri": "https://localhost:8080/"
        },
        "id": "i4oi5CfHo5zm",
        "outputId": "397cc1d9-cb52-488d-f2b3-a902f0e36ba8"
      },
      "execution_count": null,
      "outputs": [
        {
          "output_type": "stream",
          "name": "stdout",
          "text": [
            "Enter your data:10\n",
            "Enter your data:20\n",
            "Enter your operation 1.SUM 2.DIFF 3.MUL 4.DIV:4\n",
            "Div is 0\n"
          ]
        }
      ]
    },
    {
      "cell_type": "markdown",
      "source": [
        ">>Loop"
      ],
      "metadata": {
        "id": "P1mZyaVNqqk3"
      }
    },
    {
      "cell_type": "markdown",
      "source": [
        "for"
      ],
      "metadata": {
        "id": "RIDdIh7lqs1e"
      }
    },
    {
      "cell_type": "code",
      "source": [
        "a=5\n",
        "\n",
        "for i in range(a):\n",
        "  print(i)\n",
        "print(\"\\n\")\n",
        "\n",
        "for i in range(a):\n",
        "  print(i, end='')\n",
        "print(\"\\n\")\n",
        "\n",
        "for i in range(1,a):\n",
        "  print(i, end='')\n",
        "print(\"\\n\")\n",
        "\n",
        "for i in range(1,a+1):\n",
        "  print(i, end='')\n",
        "print(\"\\n\")\n",
        "\n",
        "for i in range(1,a+1,2):\n",
        "  print(i, end='')\n",
        "print(\"\\n\")\n",
        "\n",
        "for i in range(a+1,1,-2):\n",
        "  print(i, end='')\n",
        "print(\"\\n\")"
      ],
      "metadata": {
        "colab": {
          "base_uri": "https://localhost:8080/"
        },
        "id": "oDfdJ0lhop0i",
        "outputId": "a6d00e40-7ffc-43f0-c80e-43e8cb9ce67f"
      },
      "execution_count": null,
      "outputs": [
        {
          "output_type": "stream",
          "name": "stdout",
          "text": [
            "0\n",
            "1\n",
            "2\n",
            "3\n",
            "4\n",
            "\n",
            "\n",
            "01234\n",
            "\n",
            "1234\n",
            "\n",
            "12345\n",
            "\n",
            "135\n",
            "\n",
            "642\n",
            "\n"
          ]
        }
      ]
    },
    {
      "cell_type": "markdown",
      "source": [
        "prime number"
      ],
      "metadata": {
        "id": "D2dvo1rCsSPd"
      }
    },
    {
      "cell_type": "code",
      "source": [
        "a=int(input(\"Enter your data:\"))\n",
        "\n",
        "if (a<2):\n",
        "  print(a, \"is not a PRIME number\")\n",
        "elif(a%2==0):\n",
        "  print(a, \"is not a PRIME number\")\n",
        "else:\n",
        "  print(a, \"is a PRIME number\")"
      ],
      "metadata": {
        "colab": {
          "base_uri": "https://localhost:8080/"
        },
        "id": "eB9GHyk7qzrc",
        "outputId": "80487aa9-59e2-4677-bef0-7d77a816cca3"
      },
      "execution_count": null,
      "outputs": [
        {
          "output_type": "stream",
          "name": "stdout",
          "text": [
            "Enter your data:11\n",
            "11 is a PRIME number\n"
          ]
        }
      ]
    },
    {
      "cell_type": "code",
      "source": [
        "for n in range(2,101):\n",
        "  for d in range(2,n):\n",
        "    if (n%d==0):\n",
        "      break\n",
        "  else:\n",
        "     print( n,\" \", end='')"
      ],
      "metadata": {
        "colab": {
          "base_uri": "https://localhost:8080/"
        },
        "id": "_UnsW_0Gs9NS",
        "outputId": "ee1ad561-034e-408f-a568-52195e1a2c04"
      },
      "execution_count": null,
      "outputs": [
        {
          "output_type": "stream",
          "name": "stdout",
          "text": [
            "2  3  5  7  11  13  17  19  23  29  31  37  41  43  47  53  59  61  67  71  73  79  83  89  97  "
          ]
        }
      ]
    },
    {
      "cell_type": "markdown",
      "source": [
        " factorial of a number"
      ],
      "metadata": {
        "id": "cT2Bb_h_ygZq"
      }
    },
    {
      "cell_type": "code",
      "source": [
        "a = int(input(\"Enter your number:\"))\n",
        "f=1\n",
        "\n",
        "for i in range (1,a+1):\n",
        "  f*=i\n",
        "print(\"Factorial of\",a, \"is\", f)"
      ],
      "metadata": {
        "colab": {
          "base_uri": "https://localhost:8080/"
        },
        "id": "GpgIBKvQvPAE",
        "outputId": "1da0e0da-4a6f-424e-e6bc-a854f95f5ffc"
      },
      "execution_count": null,
      "outputs": [
        {
          "output_type": "stream",
          "name": "stdout",
          "text": [
            "Enter your number:5\n",
            "Factorial of 5 is 120\n"
          ]
        }
      ]
    },
    {
      "cell_type": "markdown",
      "source": [
        "Tables"
      ],
      "metadata": {
        "id": "TOi1XYfpzbff"
      }
    },
    {
      "cell_type": "code",
      "source": [
        "a=int(input(\"Enter the data:\"))\n",
        "for i in range(1,11):\n",
        "  print(i,\"*\",a,\"=\",i*a)\n",
        "\n"
      ],
      "metadata": {
        "colab": {
          "base_uri": "https://localhost:8080/"
        },
        "id": "LuGL7uVdzf-u",
        "outputId": "83c048d6-f496-4ee0-9662-ddc6f16aec0d"
      },
      "execution_count": null,
      "outputs": [
        {
          "output_type": "stream",
          "name": "stdout",
          "text": [
            "Enter the data:10\n",
            "1 * 10 = 10\n",
            "2 * 10 = 20\n",
            "3 * 10 = 30\n",
            "4 * 10 = 40\n",
            "5 * 10 = 50\n",
            "6 * 10 = 60\n",
            "7 * 10 = 70\n",
            "8 * 10 = 80\n",
            "9 * 10 = 90\n",
            "10 * 10 = 100\n"
          ]
        }
      ]
    },
    {
      "cell_type": "code",
      "source": [
        "a=0\n",
        "b=1\n",
        "c=int(input(\"Enter your data:\"))\n",
        "\n",
        "for i in range(1,c+1):\n",
        "  print( a,' ',end='')\n",
        "  a,b=b,a+b\n"
      ],
      "metadata": {
        "colab": {
          "base_uri": "https://localhost:8080/"
        },
        "id": "mXOJ_2JAypPg",
        "outputId": "a4be3cc2-451c-46aa-89b9-262fc57b47e4"
      },
      "execution_count": null,
      "outputs": [
        {
          "output_type": "stream",
          "name": "stdout",
          "text": [
            "Enter your data:5\n",
            "0  1  1  2  3  "
          ]
        }
      ]
    },
    {
      "cell_type": "code",
      "source": [
        "for i in range(1,51):\n",
        "  if (i%2==0):\n",
        "    print(i, \"\", end=\"\")"
      ],
      "metadata": {
        "colab": {
          "base_uri": "https://localhost:8080/"
        },
        "id": "pC1Q-mulzQbu",
        "outputId": "df014352-4f5d-4cd0-e3f8-69049841743e"
      },
      "execution_count": null,
      "outputs": [
        {
          "output_type": "stream",
          "name": "stdout",
          "text": [
            "2 4 6 8 10 12 14 16 18 20 22 24 26 28 30 32 34 36 38 40 42 44 46 48 50 "
          ]
        }
      ]
    },
    {
      "cell_type": "markdown",
      "source": [
        " >> string"
      ],
      "metadata": {
        "id": "GoYV4S1p1teu"
      }
    },
    {
      "cell_type": "code",
      "source": [
        " print(\"hi\")"
      ],
      "metadata": {
        "colab": {
          "base_uri": "https://localhost:8080/"
        },
        "id": "wSeiY97I1X18",
        "outputId": "521a7e17-170f-47ef-bed7-721ce74e5ff1"
      },
      "execution_count": null,
      "outputs": [
        {
          "output_type": "stream",
          "name": "stdout",
          "text": [
            "hi\n"
          ]
        }
      ]
    },
    {
      "cell_type": "code",
      "source": [
        "a='this is'\n",
        "b='ghost'\n",
        "print(a,b)\n",
        "print(a+b)\n",
        "print(len(a))\n",
        "print(len(b))\n",
        "print()"
      ],
      "metadata": {
        "colab": {
          "base_uri": "https://localhost:8080/"
        },
        "id": "1RjiFkBC2aCm",
        "outputId": "27e51d24-9482-452f-c09c-a0f8fdb61e7c"
      },
      "execution_count": null,
      "outputs": [
        {
          "output_type": "stream",
          "name": "stdout",
          "text": [
            "this is ghost\n",
            "this isghost\n",
            "7\n",
            "5\n"
          ]
        }
      ]
    },
    {
      "cell_type": "markdown",
      "source": [
        "slicing"
      ],
      "metadata": {
        "id": "-D4OZ23Y4Z40"
      }
    },
    {
      "cell_type": "code",
      "source": [
        "a=\"MATHEMATICS\"\n",
        "print(a[ : : ])\n",
        "print(a[:6])\n",
        "print(a[3:])\n",
        "print(a[-1: ])\n",
        "print(a[ :-3])\n",
        "print(a[2:6])\n",
        "print(a[-3:-5])"
      ],
      "metadata": {
        "colab": {
          "base_uri": "https://localhost:8080/"
        },
        "id": "J-cmNR0A2koU",
        "outputId": "20c76007-f62d-4c97-80ef-cf5213b2d379"
      },
      "execution_count": null,
      "outputs": [
        {
          "output_type": "stream",
          "name": "stdout",
          "text": [
            "MATHEMATICS\n",
            "MATHEM\n",
            "HEMATICS\n",
            "S\n",
            "MATHEMAT\n",
            "THEM\n",
            "\n"
          ]
        }
      ]
    },
    {
      "cell_type": "code",
      "source": [
        "a=input(\"Enter the data:\")\n",
        "b=len(a)\n",
        "for i in range(b):\n",
        "  c=int(a[i])\n",
        "  d=c***\n",
        "#for j in range(b):\n",
        "\n",
        "\n",
        "\n",
        "\n",
        "\n",
        " #   e\n",
        "print(d)\n"
      ],
      "metadata": {
        "colab": {
          "base_uri": "https://localhost:8080/"
        },
        "id": "xO91iDpL4i-O",
        "outputId": "fbdf866a-e7e8-4c8d-dc4f-7cd9c4d70baf"
      },
      "execution_count": null,
      "outputs": [
        {
          "output_type": "stream",
          "name": "stdout",
          "text": [
            "Enter the data:153\n",
            "27\n"
          ]
        }
      ]
    },
    {
      "cell_type": "markdown",
      "source": [
        ">>slicing"
      ],
      "metadata": {
        "id": "4VjNTrn1cHdC"
      }
    },
    {
      "cell_type": "code",
      "source": [
        "a=\"  Hello world  \"\n",
        "b=\"lokesh\"\n",
        "\n",
        "print(len(a)) #just count, does not return\n",
        "print(a+b)\n",
        "print(a,b)\n",
        "print('@'.join(a)) #add @ in between each alphabet\n",
        "print(a.upper()) #it will return value\n",
        "print(a.lower())\n",
        "print(a.strip()) # remove excessive space\n",
        "print(a.replace('world','there'))"
      ],
      "metadata": {
        "id": "XjDvziuBeLRM"
      },
      "execution_count": null,
      "outputs": []
    },
    {
      "cell_type": "code",
      "source": [
        "a=input(\"Enter your data:\")\n",
        "b=int(input(\"Enter your data:\"))\n",
        "\n",
        "print(f\"\\nFirst {b} characters:{a[ :b]}\")"
      ],
      "metadata": {
        "colab": {
          "base_uri": "https://localhost:8080/"
        },
        "id": "vbGxSaBFjcm0",
        "outputId": "d360c838-e083-4ddb-ea2d-149e3c28d0a1"
      },
      "execution_count": null,
      "outputs": [
        {
          "output_type": "stream",
          "name": "stdout",
          "text": [
            "Enter your data:mathematics\n",
            "Enter your data:5\n",
            "\n",
            "First 5 characters:mathe\n"
          ]
        }
      ]
    },
    {
      "cell_type": "markdown",
      "source": [
        ">> List"
      ],
      "metadata": {
        "id": "eqk0sERMcF6t"
      }
    },
    {
      "cell_type": "code",
      "source": [
        "a= [1,1.2,\"Apple\",True]\n",
        "\n",
        "print(a)\n",
        "print(a[2])"
      ],
      "metadata": {
        "colab": {
          "base_uri": "https://localhost:8080/"
        },
        "id": "m3zCI2MkLaJw",
        "outputId": "64ec054c-5941-4998-deec-f101c285e3f2"
      },
      "execution_count": null,
      "outputs": [
        {
          "output_type": "stream",
          "name": "stdout",
          "text": [
            "[1, 1.2, 'Apple', True]\n"
          ]
        }
      ]
    },
    {
      "cell_type": "code",
      "source": [],
      "metadata": {
        "id": "KoMUDbN9fhPp"
      },
      "execution_count": null,
      "outputs": []
    }
  ]
}