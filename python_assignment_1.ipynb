{
  "nbformat": 4,
  "nbformat_minor": 0,
  "metadata": {
    "colab": {
      "provenance": [],
      "authorship_tag": "ABX9TyNj6vbNYjrvFdFB9AuK8Cry",
      "include_colab_link": true
    },
    "kernelspec": {
      "name": "python3",
      "display_name": "Python 3"
    },
    "language_info": {
      "name": "python"
    }
  },
  "cells": [
    {
      "cell_type": "markdown",
      "metadata": {
        "id": "view-in-github",
        "colab_type": "text"
      },
      "source": [
        "<a href=\"https://colab.research.google.com/github/Lokesh-121/python-/blob/main/python_assignment_1.ipynb\" target=\"_parent\"><img src=\"https://colab.research.google.com/assets/colab-badge.svg\" alt=\"Open In Colab\"/></a>"
      ]
    },
    {
      "cell_type": "markdown",
      "source": [
        "Print - hello world in python"
      ],
      "metadata": {
        "id": "QtARHNLD2VjX"
      }
    },
    {
      "cell_type": "code",
      "source": [
        "print(\"Hello world !\")"
      ],
      "metadata": {
        "colab": {
          "base_uri": "https://localhost:8080/"
        },
        "id": "952TUByg3Jim",
        "outputId": "bd428aae-cdb5-409d-93b1-3b8a753c70ca"
      },
      "execution_count": null,
      "outputs": [
        {
          "output_type": "stream",
          "name": "stdout",
          "text": [
            "Hello world !\n"
          ]
        }
      ]
    },
    {
      "cell_type": "markdown",
      "source": [
        "Add two numbers"
      ],
      "metadata": {
        "id": "7SVf2bZI2VvO"
      }
    },
    {
      "cell_type": "code",
      "source": [
        "ip1 = int(input(\"Enter your ip1 : \"))\n",
        "ip2 = int(input(\"Enter your ip2 : \"))\n",
        "s = ip1+ip2\n",
        "print(\"Sum of your input is :\",s)"
      ],
      "metadata": {
        "colab": {
          "base_uri": "https://localhost:8080/"
        },
        "id": "GtcoEwIa3N5G",
        "outputId": "cc5e1c5c-3763-4ea7-e417-89908c55edd9"
      },
      "execution_count": 30,
      "outputs": [
        {
          "output_type": "stream",
          "name": "stdout",
          "text": [
            "Enter your ip1 : 79\n",
            "Enter your ip2 : 46\n",
            "Sum of your input is : 125\n"
          ]
        }
      ]
    },
    {
      "cell_type": "markdown",
      "source": [
        "Max of two numbers"
      ],
      "metadata": {
        "id": "uCjFiXoq2Vx2"
      }
    },
    {
      "cell_type": "code",
      "source": [
        "ip1 = int(input(\"Enter your ip1 : \"))\n",
        "ip2 = int(input(\"Enter your ip2 : \"))\n",
        "if ip1>ip2:\n",
        "  print(\"The MAX num is :\",ip1)\n",
        "else:\n",
        "  print(\"The MAX num is :\",ip2)"
      ],
      "metadata": {
        "colab": {
          "base_uri": "https://localhost:8080/"
        },
        "id": "gDFEu6hJ337W",
        "outputId": "107a5c58-2698-4111-d50b-0f619b60cff7"
      },
      "execution_count": 47,
      "outputs": [
        {
          "output_type": "stream",
          "name": "stdout",
          "text": [
            "Enter your ip1 : 67\n",
            "Enter your ip2 : 37\n",
            "The MAX num is : 67\n"
          ]
        }
      ]
    },
    {
      "cell_type": "markdown",
      "source": [
        "Prime number"
      ],
      "metadata": {
        "id": "sWJW1fb72V0e"
      }
    },
    {
      "cell_type": "code",
      "source": [
        "ip = int(input(\"Enter your ip >1 : \"))\n",
        "if ip==1:\n",
        "  print(\"The num is neither prime nor composite\")\n",
        "elif ip==2:\n",
        "  print(\"The num is prime\")\n",
        "elif ip%2==0:\n",
        "  print(\"The num is not a prime\")\n",
        "else:\n",
        "  print(\"The num is prime\")"
      ],
      "metadata": {
        "colab": {
          "base_uri": "https://localhost:8080/"
        },
        "id": "JR0cJ9r-4MOe",
        "outputId": "87d040d6-f68b-449c-d61f-7a383bdaf2d9"
      },
      "execution_count": 32,
      "outputs": [
        {
          "output_type": "stream",
          "name": "stdout",
          "text": [
            "Enter your ip >1 : 11\n",
            "The num is prime\n"
          ]
        }
      ]
    },
    {
      "cell_type": "markdown",
      "source": [
        "Interchange first and last in the list"
      ],
      "metadata": {
        "id": "r0B6npfs2V4f"
      }
    },
    {
      "cell_type": "code",
      "source": [
        "lt = [1,2,3,4,5]\n",
        "ln = len(lt)\n",
        "sp = ln-1\n",
        "lt[0], lt[sp] = lt[sp], lt[0]\n",
        "\n",
        "print(lt)"
      ],
      "metadata": {
        "colab": {
          "base_uri": "https://localhost:8080/"
        },
        "id": "64B3J8QK5No2",
        "outputId": "c654f017-966c-4ef5-f579-d3a6def5d73f"
      },
      "execution_count": 49,
      "outputs": [
        {
          "output_type": "stream",
          "name": "stdout",
          "text": [
            "[5, 2, 3, 4, 1]\n"
          ]
        }
      ]
    },
    {
      "cell_type": "markdown",
      "source": [
        "swap two elements in a list"
      ],
      "metadata": {
        "id": "aP2MHkP-2V7O"
      }
    },
    {
      "cell_type": "code",
      "source": [
        "lt = [1,2,3,4,5,6,7,8,9]\n",
        "ln = len(lt)\n",
        "sp = ln-1\n",
        "lt[0], lt[sp] = lt[sp], lt[0]\n",
        "\n",
        "print(lt)"
      ],
      "metadata": {
        "colab": {
          "base_uri": "https://localhost:8080/"
        },
        "id": "4GH92-d0xOw_",
        "outputId": "12b3c838-bc82-4fe8-b60a-e64696858d79"
      },
      "execution_count": 33,
      "outputs": [
        {
          "output_type": "stream",
          "name": "stdout",
          "text": [
            "[9, 2, 3, 4, 5, 6, 7, 8, 1]\n"
          ]
        }
      ]
    },
    {
      "cell_type": "markdown",
      "source": [
        "Even numbers in a list"
      ],
      "metadata": {
        "id": "10CYB-G52WBu"
      }
    },
    {
      "cell_type": "code",
      "source": [
        "lt = [1,2,3,4,5,6,7,8,9]\n",
        "ln = len(lt)\n",
        "for i in range(ln):\n",
        "  if lt[i]%2==0:\n",
        "    print(lt[i], end = ' ')\n",
        "  else:\n",
        "    pass\n"
      ],
      "metadata": {
        "colab": {
          "base_uri": "https://localhost:8080/"
        },
        "id": "RyeA1MtZx6Tc",
        "outputId": "18f0a08f-713e-43eb-9969-5e08a34a40db"
      },
      "execution_count": 36,
      "outputs": [
        {
          "output_type": "stream",
          "name": "stdout",
          "text": [
            "2 4 6 8 "
          ]
        }
      ]
    },
    {
      "cell_type": "markdown",
      "source": [
        "Odd numbers in a list"
      ],
      "metadata": {
        "id": "4_D0d6Co2WJf"
      }
    },
    {
      "cell_type": "code",
      "source": [
        "lt = [1,2,3,4,5,6,7,8,9]\n",
        "ln = len(lt)\n",
        "for i in range(ln):\n",
        "  if lt[i]%2==0:\n",
        "    pass\n",
        "  else:\n",
        "    print(lt[i], end = ' ')"
      ],
      "metadata": {
        "colab": {
          "base_uri": "https://localhost:8080/"
        },
        "id": "ML3mMAkNyyj9",
        "outputId": "c398fb94-9d2d-44d7-a5fd-a2293901dbe2"
      },
      "execution_count": 37,
      "outputs": [
        {
          "output_type": "stream",
          "name": "stdout",
          "text": [
            "1 3 5 7 9 "
          ]
        }
      ]
    },
    {
      "cell_type": "markdown",
      "source": [
        "Palindrome"
      ],
      "metadata": {
        "id": "DTfDG-Yk2_gO"
      }
    },
    {
      "cell_type": "code",
      "source": [
        "str1 = input(\"Enter your ip : \")\n",
        "str2 = str1[::-1]\n",
        "if str1 == str2:\n",
        "  print(\"PALINDROME\")\n",
        "else:\n",
        "  print(\"NOT A PALINDROME\")\n"
      ],
      "metadata": {
        "colab": {
          "base_uri": "https://localhost:8080/"
        },
        "id": "JbGmktDrzw1n",
        "outputId": "a815baa7-931e-4a06-9981-3834fafa1a6f"
      },
      "execution_count": 39,
      "outputs": [
        {
          "output_type": "stream",
          "name": "stdout",
          "text": [
            "Enter your ip : maam\n",
            "palindrome\n"
          ]
        }
      ]
    },
    {
      "cell_type": "markdown",
      "source": [
        "Check if a string contain substring"
      ],
      "metadata": {
        "id": "PmBTHjHb2_5_"
      }
    },
    {
      "cell_type": "code",
      "source": [
        "str1 = input(\"Enter your ip 1 :\")\n",
        "str2 = input(\"Enter your ip 2 :\")\n",
        "if str2 in str1:\n",
        "  print(\"SUB STRING\")\n",
        "else:\n",
        "  print(\"NOT A SUB STRING\")"
      ],
      "metadata": {
        "colab": {
          "base_uri": "https://localhost:8080/"
        },
        "id": "BZ-8cDoB0TlD",
        "outputId": "b7a3787b-8107-4fae-8388-5860b8ed15f4"
      },
      "execution_count": 40,
      "outputs": [
        {
          "output_type": "stream",
          "name": "stdout",
          "text": [
            "Enter your ip 1 :hello world\n",
            "Enter your ip 2 :hello\n",
            "Yes\n"
          ]
        }
      ]
    }
  ]
}